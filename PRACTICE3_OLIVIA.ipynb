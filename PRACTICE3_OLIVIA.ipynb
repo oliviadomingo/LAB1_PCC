{
 "cells": [
  {
   "cell_type": "markdown",
   "id": "J8yF_PS8PM8C",
   "metadata": {
    "id": "J8yF_PS8PM8C"
   },
   "source": [
    "# OBJECT-ORIENTED PROGRAMMING IN PYTHON \n",
    "\n",
    "The objective of this practice is to become familiar with the definition and use of classes in Python, with special emphasis on what we will need to implement a genetic algorithm.\n"
   ]
  },
  {
   "cell_type": "code",
   "execution_count": 1,
   "id": "7771334b",
   "metadata": {
    "executionInfo": {
     "elapsed": 5,
     "status": "ok",
     "timestamp": 1677406952147,
     "user": {
      "displayName": "Rosa Martínez Corral",
      "userId": "07630100224929882391"
     },
     "user_tz": -60
    },
    "id": "7771334b"
   },
   "outputs": [],
   "source": [
    "import numpy as np\n",
    "import matplotlib.pyplot as plt"
   ]
  },
  {
   "cell_type": "markdown",
   "id": "9feae18d",
   "metadata": {
    "id": "9feae18d"
   },
   "source": [
    "**Q1**. Create a class \"individual\" corresponding to an individual of a genetic algorithm, with two attributes: \"ngenes\", the number of genes (int), and \"genotype\" (numpy array). Make it necessary to set the values of both arguments when creating a new instance of the class."
   ]
  },
  {
   "cell_type": "code",
   "execution_count": 8,
   "id": "d35716c8",
   "metadata": {},
   "outputs": [],
   "source": [
    "import numpy as np\n",
    "import matplotlib.pyplot as plt\n",
    "#Creating the individual class with two atributes\n",
    "class Individual:\n",
    "    def __init__(self, ngenes = None, genotype = None):\n",
    "        self.ngenes = int(ngenes)\n",
    "        self.genotype = np.array(genotype)"
   ]
  },
  {
   "cell_type": "markdown",
   "id": "e899127d",
   "metadata": {
    "id": "e899127d"
   },
   "source": [
    "**Q2**. Create an instance of class \"individual\" with genotype \"[0,0,0,1]\". Print the corresponding genotype and check that everything is correct."
   ]
  },
  {
   "cell_type": "code",
   "execution_count": 9,
   "id": "386622ad",
   "metadata": {
    "colab": {
     "base_uri": "https://localhost:8080/"
    },
    "executionInfo": {
     "elapsed": 235,
     "status": "ok",
     "timestamp": 1677406963109,
     "user": {
      "displayName": "Rosa Martínez Corral",
      "userId": "07630100224929882391"
     },
     "user_tz": -60
    },
    "id": "386622ad",
    "outputId": "7ef22093-760f-4ead-eb19-4a6c809dcca1"
   },
   "outputs": [
    {
     "name": "stdout",
     "output_type": "stream",
     "text": [
      "[0 0 0 1]\n"
     ]
    }
   ],
   "source": [
    "#create an object of type Individual\n",
    "person1=Individual(4, [0,0,0,1])\n",
    "print(person1.genotype)"
   ]
  },
  {
   "cell_type": "markdown",
   "id": "74d91082",
   "metadata": {
    "id": "74d91082"
   },
   "source": [
    "**Q3**. Modify the above class as follows (name the new class \"individual1\"):\n",
    "- add a \"set_random_genotype\" method to set a binary genotype randomly: with probability 0.5 assign a value of 1 or 0 to each gene.\n",
    "- modify the initialization function so that the number of genes is 1 if no other value is specified, and the genotype is empty if not passed as an argument to initialization. In this case, make the genotype set randomly with the \"set_random_genotype\" function."
   ]
  },
  {
   "cell_type": "code",
   "execution_count": 11,
   "id": "906e84b9",
   "metadata": {
    "executionInfo": {
     "elapsed": 236,
     "status": "ok",
     "timestamp": 1677407077828,
     "user": {
      "displayName": "Rosa Martínez Corral",
      "userId": "07630100224929882391"
     },
     "user_tz": -60
    },
    "id": "906e84b9"
   },
   "outputs": [
    {
     "name": "stdout",
     "output_type": "stream",
     "text": [
      "The individual's genotype is: [0 1 1 0 1 0 0 1 0 0]\n"
     ]
    }
   ],
   "source": [
    "import numpy as np\n",
    "import matplotlib.pyplot as plt\n",
    "\n",
    "# create the individual class\n",
    "class Individual1:\n",
    "    def __init__(self, ngenes=1, genotype=None):\n",
    "        self.ngenes = ngenes  # Add this line to define the attribute ngenes\n",
    "        if genotype is None:\n",
    "            self.genotype = np.zeros(self.ngenes)\n",
    "            self.set_random_genotype()\n",
    "        else:\n",
    "            self.genotype = np.array(genotype)\n",
    "\n",
    "    # we define a binary genotype randomly with pr:0.5\n",
    "    def set_random_genotype(self):\n",
    "        self.genotype = np.random.binomial(1, 0.5, size=self.ngenes)\n",
    "\n",
    "ind = Individual1(ngenes=10)\n",
    "print(\"The individual's genotype is:\", ind.genotype)"
   ]
  },
  {
   "cell_type": "markdown",
   "id": "eab52e20",
   "metadata": {
    "id": "eab52e20"
   },
   "source": [
    "**Q4.** Check that it works correctly: create 1000 individuals with genotype of length 4 but without specifying their genotype, so that it is randomly defined. Make a graph showing the number of \"1's\" in the population at each position. Remember to set the random number generator seed before creating the objects."
   ]
  },
  {
   "cell_type": "code",
   "execution_count": 7,
   "id": "ee0aaf03",
   "metadata": {
    "colab": {
     "base_uri": "https://localhost:8080/",
     "height": 266
    },
    "executionInfo": {
     "elapsed": 243,
     "status": "ok",
     "timestamp": 1677407165923,
     "user": {
      "displayName": "Rosa Martínez Corral",
      "userId": "07630100224929882391"
     },
     "user_tz": -60
    },
    "id": "ee0aaf03",
    "outputId": "e462ad9c-b0f6-4de4-d369-1085ee2962cd"
   },
   "outputs": [
    {
     "data": {
      "image/png": "[encoded data removed]",
      "text/plain": [
       "<Figure size 640x480 with 1 Axes>"
      ]
     },
     "metadata": {},
     "output_type": "display_data"
    }
   ],
   "source": [
    "import numpy as np\n",
    "import matplotlib.pyplot as plt\n",
    "\n",
    "#individual class\n",
    "class Individual1:\n",
    "    def __init__(self, ngenes=4, genotype=None):#number of genes=4\n",
    "        self.ngenes = int(ngenes)\n",
    "        if genotype is None:\n",
    "            self.genotype = np.zeros(self.ngenes, dtype=int)\n",
    "            self.set_random_genotype()\n",
    "        else:\n",
    "            self.genotype = np.array(genotype, dtype=int)\n",
    "\n",
    "    def set_random_genotype(self):\n",
    "        self.genotype = np.random.binomial(1, 0.5, size=self.ngenes)\n",
    "\n",
    "# define the seed\n",
    "np.random.seed(123)\n",
    "\n",
    "# creating 1000 individuals\n",
    "numind = 1000\n",
    "pob = [Individual1(ngenes=4) for _ in range(numind)]\n",
    "\n",
    "# We add the amount of \"1\" in the population at each position and add it to a vector to be able to graph it\n",
    "ones = np.sum([ind.genotype for ind in pob], axis=0)\n",
    "\n",
    "# Graphic\n",
    "fig, a = plt.subplots()\n",
    "a.bar(range(4), ones)\n",
    "a.set_xlabel(\"GENOTYPE POSITION\")\n",
    "a.set_ylabel(\"NUMBER OF '1'\")\n",
    "plt.show()"
   ]
  },
  {
   "cell_type": "markdown",
   "id": "30134158",
   "metadata": {
    "id": "30134158"
   },
   "source": [
    "**Q5**. Modify the previous class, naming the new class \"individual2\", in which the genotype takes continuous values. Make it possible to specify bounds on the values ​​of each gene in the initialization function. For example, you can add as arguments two lists, *boundslow* and *boundshigh* , containing the lower and upper bounds of each gene, respectively. Make it possible to randomly generate a genotype by choosing values ​​within these ranges."
   ]
  },
  {
   "cell_type": "code",
   "execution_count": 5,
   "id": "a7ac6d4b",
   "metadata": {
    "executionInfo": {
     "elapsed": 219,
     "status": "ok",
     "timestamp": 1677407517856,
     "user": {
      "displayName": "Rosa Martínez Corral",
      "userId": "07630100224929882391"
     },
     "user_tz": -60
    },
    "id": "a7ac6d4b"
   },
   "outputs": [
    {
     "name": "stdout",
     "output_type": "stream",
     "text": [
      "The genotype  1 has the following boundaries: 0.0 1\n",
      "The genotype  2 has the following boundaries: 0.5 0\n",
      "The genotype  3 has the following boundaries: -5.0 5\n",
      "The genotype  4 has the following boundaries: 10.0 20\n"
     ]
    }
   ],
   "source": [
    "import numpy as np\n",
    "import matplotlib.pyplot as plt\n",
    "\n",
    "#we create the class individual2 with the upper and lower bounds\n",
    "class Individual2:\n",
    "    def __init__(self, ngenes=10, limabajo=None, limarriba=None, genotype=None):\n",
    "        self.ngenes = int(ngenes)\n",
    "        if limabajo is None:\n",
    "            limabajo = [0]*self.ngenes\n",
    "        if limarriba is None:\n",
    "            limarriba = [1]*self.ngenes\n",
    "        self.limabajo = np.array(limabajo)\n",
    "        self.limarriba = np.array(limarriba)\n",
    "        if genotype is None:\n",
    "            self.genotype = np.zeros(self.ngenes)\n",
    "            self.set_random_genotype()\n",
    "        else:\n",
    "            self.genotype = np.array(genotype)\n",
    "           \n",
    "    #function that allows to generate a random genotype with continuous values\n",
    "    def set_random_genotype(self):\n",
    "        if self.limabajo is None or self.limarriba is None:\n",
    "            raise ValueError(\"Unspecified limits\")\n",
    "        self.genotype = np.random.uniform(self.limabajo, self.limarriba, size=self.ngenes)\n",
    "    \n",
    "    #function to print the results   \n",
    "    def print_bounds(self):\n",
    "        for i in range(self.ngenes):\n",
    "            print(\"The genotype \", i+1, \"has the following boundaries:\", self.limabajo[i], self.limarriba[i])\n",
    "\n",
    "#we check the code with 4 genes and limits specified by us\n",
    "ind = Individual2(ngenes=4, limabajo=[0, 0.5, -5, 10], limarriba=[1, 0, 5, 20])\n",
    "ind.print_bounds()   "
   ]
  },
  {
   "cell_type": "markdown",
   "id": "5b5ddec1",
   "metadata": {
    "id": "5b5ddec1"
   },
   "source": [
    "**Q6.** Check that the genotype random generation function works correctly: create 10000 individuals of class \"individual2\" with genotype of length 4. The first gene can take values ​​between [0,1], the others between [ -5.5]. For each position, make a histogram of the distribution of values ​​in the population. Remember to set the random number generator seed before creating the objects."
   ]
  },
  {
   "cell_type": "code",
   "execution_count": 6,
   "id": "eed80ac6",
   "metadata": {
    "colab": {
     "base_uri": "https://localhost:8080/",
     "height": 279
    },
    "executionInfo": {
     "elapsed": 640,
     "status": "ok",
     "timestamp": 1677407535239,
     "user": {
      "displayName": "Rosa Martínez Corral",
      "userId": "07630100224929882391"
     },
     "user_tz": -60
    },
    "id": "eed80ac6",
    "outputId": "8dba367a-42f5-4789-b734-a451e22913db"
   },
   "outputs": [
    {
     "data": {
      "image/png": "[encoded data removed]",
      "text/plain": [
       "<Figure size 640x480 with 4 Axes>"
      ]
     },
     "metadata": {},
     "output_type": "display_data"
    }
   ],
   "source": [
    "import numpy as np\n",
    "import matplotlib.pyplot as plt\n",
    "\n",
    "# create the class individual2 with the upper and lower bounds\n",
    "class Individual2:\n",
    "    def __init__(self, ngenes=10, limabajo=None, limarriba=None, genotype=None):\n",
    "        self.ngenes = int(ngenes)\n",
    "        if limabajo is None:\n",
    "            limabajo = [0]*self.ngenes\n",
    "        if limarriba is None:\n",
    "            limarriba = [1]*self.ngenes\n",
    "        self.limabajo = np.array(limabajo)\n",
    "        self.limarriba = np.array(limarriba)\n",
    "        if genotype is None:\n",
    "            self.genotype = np.zeros(self.ngenes)\n",
    "            self.set_random_genotype()\n",
    "        else:\n",
    "            self.genotype = np.array(genotype)\n",
    "           \n",
    "    #function that generates a random genotype with continuous values\n",
    "    def set_random_genotype(self):\n",
    "        if self.limabajo is None or self.limarriba is None:\n",
    "            raise ValueError(\"Unspecified limits\")\n",
    "        self.genotype = np.random.uniform(self.limabajo, self.limarriba, size=self.ngenes)\n",
    "    \n",
    "   #function to print the results\n",
    "    def print_bounds(self):\n",
    "        for i in range(self.ngenes):\n",
    "            print(\"The genotype \", i+1, \"has the following boundaries:\", self.limabajo[i], self.limarriba[i])\n",
    "\n",
    "\n",
    "np.random.seed(10)\n",
    "\n",
    "\n",
    "\n",
    "# We generate the 10000 individuals\n",
    "numind = 10000\n",
    "pob = [Individual2(ngenes=4, limabajo=[0, -5, -5, -5], limarriba=[1, 5, 5, 5])for _ in range(numind)]\n",
    "\n",
    "gene_values = np.array([ind.genotype for ind in pob])\n",
    "\n",
    "\n",
    "fig, axes = plt.subplots(2, 2)\n",
    "axes = axes.flatten()\n",
    "for i in range(4):\n",
    "    axes[i].hist(gene_values[:, i], bins=50)\n",
    "    axes[i].set_title(f'Genotype {i+1}')\n",
    "\n",
    "fig.tight_layout()\n",
    "plt.show()\n"
   ]
  }
 ],
 "metadata": {
  "colab": {
   "provenance": []
  },
  "kernelspec": {
   "display_name": "Python 3 (ipykernel)",
   "language": "python",
   "name": "python3"
  },
  "language_info": {
   "codemirror_mode": {
    "name": "ipython",
    "version": 3
   },
   "file_extension": ".py",
   "mimetype": "text/x-python",
   "name": "python",
   "nbconvert_exporter": "python",
   "pygments_lexer": "ipython3",
   "version": "3.9.13"
  }
 },
 "nbformat": 4,
 "nbformat_minor": 5
}
